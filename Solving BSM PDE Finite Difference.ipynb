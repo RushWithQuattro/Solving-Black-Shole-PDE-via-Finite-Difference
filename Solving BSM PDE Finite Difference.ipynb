{
  "nbformat": 4,
  "nbformat_minor": 0,
  "metadata": {
    "colab": {
      "provenance": [],
      "machine_shape": "hm"
    },
    "kernelspec": {
      "name": "python3",
      "display_name": "Python 3"
    },
    "language_info": {
      "name": "python"
    },
    "gpuClass": "standard"
  },
  "cells": [
    {
      "cell_type": "markdown",
      "source": [
        "## Pricing European, American and Bermudan Style Options using Finite} Difference Methods\n",
        "#### Numerical Analysis Fall 2022 Final Project\n",
        "Authors: Ren Yang, Yinan Chen, Julian Moreno and Chris Buren"
      ],
      "metadata": {
        "id": "KBPVBeJTv0OE"
      }
    },
    {
      "cell_type": "markdown",
      "source": [
        "# **Introduction**\n",
        "\n",
        "In this project, we provide the python implmentation of two finite difference method(Implicit and Crank-Nicolson Method) to solve the PDEs of 3 styles of options(European, American, and Bermuda with path dependent payoff). We present and compare the accuracy of solutions and the efficiency of excuting the algorithms.\n",
        "\n",
        "### **Types of Options**\n",
        "\n",
        "Under the Black-Scholes-Merton framework, the stock price without dividend yield is modeled by a exponential martingale following SDE:\n",
        "\n",
        "> $dS_t=𝑢S_tdt+σS_tdW_t$\n",
        "\n",
        "Under risk neutral measure $Q$, This exponential martinagle can be represented as\n",
        "> $dS_t=rS_tdt+σS_tdW_t$\n",
        "\n",
        "An typical vanilla call option has the pay-off function $Max(S_T-K,0)$ at maturity. While a typical put option has the pay-off function $Max(K-S_T,0)$. In this projects, we only deal with options with the above form of pay-off function, but with different conditions on when can the option be excercised. \n",
        "\n",
        "One can show that, under non-arbitrage condition, a delta hedged portoflio consists of $∂C/∂S$ shares of underlying stock and 1 european style option $C$ can be formed in a self-financing way. Then, the following holds true for this delta hedged portfolio.\n",
        "> $r(C-\\frac{∂C}{∂S} S_t)dt = (\\frac{∂C}{∂t}+\\frac{1}{2}\\frac{∂^2C}{∂^2S}S_tσ^2)dt$\n",
        "\n",
        "Re-arrange the terms we obtain the Black-Schole PDE for european option with non-dividend paying underlying,\n",
        "\n",
        "> $\\frac{∂C}{∂t}+ rS_t\\frac{∂C}{∂t}+\\frac{1}{2}\\frac{∂^2C}{∂^2S}S_tσ^2=rC$\n",
        "\n",
        "\n",
        "In the case of the American options, it has the same pay-off function as its european syle counterpart. However, unlike the european options, which can be only be excercised at the agreed maturity date, the holder of american option can excercise it at any time during the contract period, as long as she feels beneficial to do so. \n",
        "\n",
        "Then, we can show that the American option has the following dynamics,\n",
        "\n",
        "> $ min(-\\frac{∂C}{∂t}-rS_t\\frac{∂C}{∂t}-\\frac{1}{2}\\frac{∂^2C}{∂^2S}S_tσ^2-rC, C-w(S-K))=0$\n",
        "\n",
        "A Bermuda option is smilar to american option in the way that they both allow excercise before the contract maturity. The difference is that bermuda option can only be excercised at a fixed set of date before maturity. \n",
        "\n",
        "\n",
        "\n",
        "### **Pricing by solving the PDEs**\n",
        "\n",
        "Now with the PDEs describing the dynamics of the options, the problem of option pricing now becomes solving the PDEs numerically given a set of boundaries(typically involves the terminal pay-offs at maturity). For this project we employs the finite difference method. The main idea behind the finite difference method is to discretize the continues evolution of the option value on a grid consists of discrete points. By specifying the proper boundaries of the grid one can iteratively compute the values at any points on the grid. There are 3 following ways in which such method can be implemented.\n",
        "\n",
        "### **The Implicit Method** \n",
        "Under this method, the components of the Black-Schole PDE can be approximated as follows\n",
        "> *Forward Approximation* of $\\frac{∂C}{∂t}$ as $\\frac{C_{t+1,j}-C_{t,j}}{δt}$\n",
        "\n",
        "> *Central Approximation* of $\\frac{∂C}{∂S}$ as $\\frac{C_{t,j+1}-C_{t,j-1}}{2δS}$\n",
        "\n",
        "> *Standard Approximation* of $\\frac{∂^2C}{∂^2S}$ as $\\frac{C_{t,j+1}+C_{t,j-1}-2C_{t,j}}{(δS)^2}$\n",
        "\n",
        "Plug in the above terms to the Black_Schole PDE, then for each time step we can obtain the following matrix formuation,\n",
        "\n",
        "> $BC_t=C_{t+1}+K_t$\n",
        "\n",
        "We solve the above equation using LU decompsition at each time step. \n",
        "\n",
        "\n",
        "### **The Crank-Nicolson Method** \n",
        "Under this method, the components of the Black-Schole PDE can be approximated as follows\n",
        "> *Central Approximation* of $\\frac{∂C_{t-(1/2),j}}{∂t}$ as $\\frac{C_{t,j}-C_{t-1,j}}{δt}$\n",
        "\n",
        "> *Central Approximation* of $\\frac{∂C_{t-(1/2),j}}{∂S}$ as $\\frac{1}{2}(\\frac{C_{t-1,j+1}-C_{t-1,j-1}}{2δS}+\\frac{C_{t,j+1}-C_{t,j-1}}{2δS})$\n",
        "\n",
        "> *Standard Approximation* of $\\frac{∂^2C}{∂^2S}$ as $\\frac{1}{2}(\\frac{C_{t-1,j+1}-2C_{t-1,j}+C_{t-1,j-1}}{δS^2}+\\frac{C_{t,j+1}-2*C_{t,j}+C_{t,j-1}}{δS^2})$\n",
        "\n",
        "Plug in the above terms to the Black_Schole PDE, then for each time step we can obtain the following matrix formuation,\n",
        "\n",
        "> $AC_{t}=DC_{t+1}+K_{t-1}+K_{t}$\n",
        "\n",
        "We solve the above equation using LU decompsition at each time step. \n",
        "\n",
        "\n",
        "\n",
        "\n",
        "###**Stability and Rate of Convergence**\n",
        "\n",
        "One concern about finite difference method is that some incorrectly chosen parameters(in this case, $σ,r,δt$) might cause the algorithm to be unstable(i.e fail to converge to a finite solution). The main source of this problem lies at the coefficient matrix ( A, D and B). For implicit method, it is stable if the infinite norm of $B^{-1} <=1$; for Crank Nicolson method, it is stable if the infinite norm of $C^{-1}D <=1$. Luckily, these conditions are true for any $σ,r,δt$ used for the above methods. However, for other methods like the explicit method, stability is not guaranteed. This is why in this project we mainly focus on the above two methods. \n",
        "\n",
        "Furthermore, one can show theoretically that Crank Nicolson Method has the fastest rate of convergence. In this project we will verify this statement.\n",
        "\n",
        "\n",
        "###**Algorithm**\n",
        "We implement the following algorithm to interatively solving for the value of european option. The general form is\n",
        "```\n",
        "# implicit method, European Call\n",
        "for 1:T \n",
        "   A*C_t=C_t+1 \n",
        "```\n",
        "\n",
        "Considering the early excercise feature of the American and Bermudan option,we compare the intrinsic value of the option against the pay-off of early-excercise to determine the value at that time step. Thus, the modified algorithm takes the general form\n",
        "\n",
        "\n",
        "```\n",
        "# implicit method, American Call\n",
        "for 1:T:\n",
        "   A*C_t=C_t+1\n",
        "   for 1:K:\n",
        "    if C_tk<max(S_k-K): \n",
        "      C_tk=S_k-K\n",
        "  \n",
        "```\n",
        "```\n",
        "# implicit method, Bermudan Call\n",
        "for 1:T:\n",
        "   A*C_t=C_t+1\n",
        "   if t in agreed_excercise_date:\n",
        "    for 1:K:\n",
        "      if C_tk<max(S_k-K): \n",
        "        C_tk=S_k-K\n",
        "  \n",
        "```"
      ],
      "metadata": {
        "id": "g3bq8U_NHL01"
      }
    },
    {
      "cell_type": "code",
      "execution_count": null,
      "metadata": {
        "id": "ZU6EkAuFzGLo"
      },
      "outputs": [],
      "source": [
        "import numpy as np\n",
        "import math \n",
        "from scipy import linalg\n",
        "from scipy import interpolate\n",
        "import matplotlib.pyplot as plt\n",
        "import pandas as pd\n",
        "import plotly.express as px\n",
        "import time"
      ]
    },
    {
      "cell_type": "markdown",
      "source": [
        "## The Implicit Method"
      ],
      "metadata": {
        "id": "rq_RpguP4Oal"
      }
    },
    {
      "cell_type": "code",
      "source": [
        "def BSM_Pricing_Implicit_Method(K,R,T,sig,OPType,exotics,stock_price_list,time_list,early_excercise_date,s0):\n",
        "\n",
        "\n",
        "  max_stock_index=len(stock_price_list)-1\n",
        "  max_time_index=len(time_list)-1\n",
        "\n",
        "  r=R\n",
        "\n",
        "  # Initilize empty pricing grid\n",
        "  option_price_grid=np.empty([max_stock_index+1, max_time_index+1])\n",
        "\n",
        "\n",
        "  dt=time_list[1]-time_list[0]\n",
        "  dj=1\n",
        "\n",
        "\n",
        "#------------------append boundary conditions to the pricing grid------------------------\n",
        "\n",
        "\n",
        "    \n",
        "\n",
        "  # Alternatively, we can use this second derivative boundary on the pricing grid to force the option prices \n",
        "  #to be verticle or horizontal when stock price approach inf big or inf small\n",
        "  # #########################\n",
        "  # # second derivative boundary condition\n",
        "  # Grid[0,0]=B[0,0]+2*a_list[0]\n",
        "  # Grid[0,1]=B[0,1]-a_list[0]\n",
        "  # Grid[-1,-1]=B[-1,-1]+2*c_list[-1]\n",
        "  # Grid[-1,-2]=B[-1,-2]-c_list[-1]\n",
        "  # #########################\n",
        "\n",
        "\n",
        "\n",
        "  if OPType=='Call':\n",
        "    def call_payoff(S):\n",
        "      return max(S-K,0)\n",
        "    def call_upper_bound(T):\n",
        "      return (max(stock_price_list)-K)*math.exp(-r*T) # can swaped by second derivative boundary \n",
        "\n",
        "    option_price_grid[:,-1]=np.array(list(map(call_payoff, stock_price_list))) # call value at maturity(Pay-Off) (time dimension boundary condition)\n",
        "    option_price_grid[-1,:]=np.array(list(map(call_upper_bound,time_list[::-1]))) # call value upper bound (stock price dimension boundary condition)\n",
        " \n",
        "  \n",
        "\n",
        "  else:\n",
        "    def put_payoff(S):\n",
        "      return max(K-S,0)\n",
        "    def put_upper_bound(T):\n",
        "      return (K-min(stock_price_list))*math.exp(-r*T) # can swaped by second derivative boundary \n",
        "    \n",
        "    option_price_grid[:,-1]=np.array(list(map(put_payoff, stock_price_list)))  # put value at maturity (Pay-Off) (time dimension boundary condition)\n",
        "    option_price_grid[0,:]=np.array(list(map(put_upper_bound,time_list[::-1]))) # put value upper bound (stock price dimension boundary condition)\n",
        "\n",
        "\n",
        "#------------------------------ iteratively solve for Ft from eqaution F_t*B=F_t+1+Vect------------------------------------------\n",
        "\n",
        "\n",
        "\n",
        "# Initialize the coefficient metrics B\n",
        "\n",
        "# For implicit Method stability is not a concern. Algo always converge as infinite norm of B_inverse is <1\n",
        "\n",
        "\n",
        "\n",
        "\n",
        "  def a_star(j):\n",
        "    return 0.5*dt*(r*j-math.pow(sig,2)*math.pow(j,2))\n",
        "  def b_star(j):\n",
        "    return 1+dt*(math.pow(sig,2)*math.pow(j,2)+r)\n",
        "  def c_star(j):\n",
        "    return 0.5*dt*(-r*j-math.pow(sig,2)*math.pow(j,2))\n",
        "\n",
        "  a_list=[a_star(i) for i in range(2,max_stock_index)]\n",
        "  b_list=[b_star(i) for i in range(1,max_stock_index)]\n",
        "  c_list=[c_star(i) for i in range(1,max_stock_index-1)]\n",
        "\n",
        "\n",
        "  B=np.diag(a_list,-1)+np.diag(b_list,0)+np.diag(c_list,1) # constuct Tri-Diagonal Matrix of B\n",
        "  \n",
        "  \n",
        "\n",
        "  \n",
        "  \n",
        "  \n",
        "  P, L, U = linalg.lu(B)\n",
        "\n",
        "#---------------------------------------switch for different option types--------------------------------------------------------\n",
        "  if exotics=='Bermudan':\n",
        "    for step in range(max_time_index-1,-1,-1):\n",
        "      \n",
        "      vect=np.array([0 for i in range(len(B))])\n",
        "      vect[0]=a_list[1]*option_price_grid[0,step]\n",
        "      vect[-1]=c_list[-1]*option_price_grid[-1,step]\n",
        "\n",
        "      euro_style_value=np.matmul(linalg.inv(U),np.matmul(linalg.inv(L),(option_price_grid[1:-1,step+1]-vect)))\n",
        "\n",
        "      if time_list[step] in early_excercise_date:\n",
        "        #print(f'excercised at {time_list[step]}')\n",
        "        if OPType=='Call':\n",
        "          for i in range(1,max_stock_index):\n",
        "            excercise_val=call_payoff(stock_price_list[i])\n",
        "            #if excercise_val>euro_style_value[i-1]:\n",
        "              #print(f'excercised at {stock_price_list[i]}')\n",
        "            option_price_grid[i,step]=max(excercise_val,euro_style_value[i-1])\n",
        "        else: \n",
        "          for i in range(1,max_stock_index):\n",
        "            excercise_val=put_payoff(stock_price_list[i])\n",
        "            #if excercise_val>euro_style_value[i-1]:\n",
        "              #print(f'excercised at {stock_price_list[i]}')\n",
        "            option_price_grid[i,step]=max(excercise_val,euro_style_value[i-1])\n",
        "      else:\n",
        "        option_price_grid[1:-1,step]=euro_style_value\n",
        "      \n",
        "  \n",
        "  elif exotics=='American':\n",
        "    for step in range(max_time_index-1,-1,-1):\n",
        "      vect=np.array([0 for i in range(len(B))])\n",
        "      vect[0]=a_list[1]*option_price_grid[0,step]\n",
        "      vect[-1]=c_list[-1]*option_price_grid[-1,step]\n",
        "  \n",
        "      euro_style_value=np.matmul(linalg.inv(U),np.matmul(linalg.inv(L),(option_price_grid[1:-1,step+1]-vect)))\n",
        "    \n",
        "      if OPType=='Call':\n",
        "        for i in range(1,max_stock_index):\n",
        "          excercise_val=call_payoff(stock_price_list[i])\n",
        "          # if excercise_val>euro_style_value[i-1]:\n",
        "          #   print(f'excercised at {stock_price_list[i]}')\n",
        "          option_price_grid[i,step]=max(excercise_val,euro_style_value[i-1])\n",
        "    \n",
        "      else: \n",
        "        for i in range(1,max_stock_index):\n",
        "          excercise_val=put_payoff(stock_price_list[i])\n",
        "          # if excercise_val>euro_style_value[i-1]:\n",
        "          #   print(f'excercised at {stock_price_list[i]}')\n",
        "          option_price_grid[i,step]=max(excercise_val,euro_style_value[i-1])\n",
        "\n",
        "  \n",
        "  \n",
        "  else: # Option Type: European\n",
        "    for step in range(max_time_index-1,-1,-1):\n",
        "      vect=np.array([0 for i in range(len(B))])\n",
        "      vect[0]=a_list[1]*option_price_grid[0,step]\n",
        "      vect[-1]=c_list[-1]*option_price_grid[-1,step]\n",
        "      \n",
        "      option_price_grid[1:-1,step]=np.matmul(linalg.inv(U),np.matmul(linalg.inv(L),(option_price_grid[1:-1,step+1]-vect)))\n",
        "\n",
        "#-------------------------------------interpolate the pricing grid on t=0 to price the option----------------------------------\n",
        "    \n",
        "  \n",
        "  def interpolatingPoly(X,Y,x_new):\n",
        "    \n",
        "    \n",
        "      def LagrangePoly(k,x):\n",
        "          nonlocal X\n",
        "          res=1\n",
        "          for i in range (len(X)):\n",
        "              if i==k:\n",
        "                  continue\n",
        "              else:\n",
        "                  coef=(x-X[i])/(X[k]-X[i])\n",
        "                  res=res*coef\n",
        "          return res\n",
        "    \n",
        "    \n",
        "      res=0\n",
        "      for k in range(len(X)):\n",
        "          res+=LagrangePoly(k,x_new)*Y[k]\n",
        "      return res\n",
        "\n",
        "\n",
        "  #print(option_price_grid[:,0][90])\n",
        "  #df=pd.DataFrame(option_price_grid)\n",
        "\n",
        "  #print(df)\n",
        "\n",
        "  return interpolatingPoly(stock_price_list, option_price_grid[:,0],s0)\n",
        "  #return df\n",
        "\n",
        "\n",
        "\n"
      ],
      "metadata": {
        "id": "zGuXWl3O6IGv"
      },
      "execution_count": null,
      "outputs": []
    },
    {
      "cell_type": "markdown",
      "source": [
        "### The Crank-Nicolson Method"
      ],
      "metadata": {
        "id": "MEtr2dfrCdVU"
      }
    },
    {
      "cell_type": "code",
      "source": [
        "def BSM_Pricing_Crank_Nicolson_Method(K,R,T,sig,OPType,exotics,stock_price_list,time_list,early_excercise_date,s0):\n",
        "\n",
        "\n",
        "  \n",
        "\n",
        "  max_stock_index=len(stock_price_list)-1\n",
        "  max_time_index=len(time_list)-1\n",
        "\n",
        "  r=R\n",
        "\n",
        "  # Initilize empty pricing grid\n",
        "  option_price_grid=np.empty([max_stock_index+1, max_time_index+1])\n",
        "\n",
        "\n",
        "  dt=time_list[1]-time_list[0]\n",
        "  dj=1\n",
        "\n",
        "\n",
        "#------------------append boundary conditions to the pricing grid------------------------\n",
        "\n",
        "  # Alternatively, we can use this second derivative boundary on the pricing grid to force the option prices \n",
        "  #to be verticle or horizontal when stock price approach inf big or inf small\n",
        "  # #########################\n",
        "  # # second derivative boundary condition\n",
        "  # Grid[0,0]=B[0,0]+2*a_list[0]\n",
        "  # Grid[0,1]=B[0,1]-a_list[0]\n",
        "  # Grid[-1,-1]=B[-1,-1]+2*c_list[-1]\n",
        "  # Grid[-1,-2]=B[-1,-2]-c_list[-1]\n",
        "  # #########################\n",
        "  \n",
        "  \n",
        "  \n",
        "  if OPType=='Call':\n",
        "    def call_payoff(S):\n",
        "      return max(S-K,0)\n",
        "    def call_upper_bound(T):\n",
        "      return (max(stock_price_list)-K)*math.exp(-r*T)\n",
        "\n",
        "    option_price_grid[:,-1]=np.array(list(map(call_payoff, stock_price_list))) # call value at maturity(Pay-Off) (time dimension boundary condition)\n",
        "    option_price_grid[-1,:]=np.array(list(map(call_upper_bound,time_list[::-1]))) # call value upper bound (stock price dimension boundary condition)\n",
        " \n",
        "  \n",
        "\n",
        "  else:\n",
        "    def put_payoff(S):\n",
        "      return max(K-S,0)\n",
        "    def put_upper_bound(T):\n",
        "      return (K-min(stock_price_list))*math.exp(-r*T)\n",
        "    \n",
        "    option_price_grid[:,-1]=np.array(list(map(put_payoff, stock_price_list)))  # put value at maturity (Pay-Off) (time dimension boundary condition)\n",
        "    option_price_grid[0,:]=np.array(list(map(put_upper_bound,time_list[::-1]))) # put value upper bound (stock price dimension boundary condition)\n",
        "\n",
        "\n",
        "#------------------------------ iteratively solve for Ft from eqaution C*F_t=D*F_t+1+Vect_1+Vect_2------------------------------------------\n",
        "\n",
        "\n",
        "\n",
        "# Initialize the coefficient metrics inv(C)D\n",
        "\n",
        "# For Crank Nicoleson Method stability is not a concern. Algo always converge as infinite norm of inv(C)D is <1\n",
        "\n",
        "\n",
        "\n",
        "\n",
        "  def a_star(j):\n",
        "    return 0.25*dt*(math.pow(sig,2)*math.pow(j,2)-r*j)\n",
        "  def b_star(j):\n",
        "    return -0.5*dt*(math.pow(sig,2)*math.pow(j,2)+r)\n",
        "  def c_star(j):\n",
        "    return 0.25*dt*(math.pow(sig,2)*math.pow(j,2)+r*j)\n",
        "\n",
        "\n",
        "\n",
        "  C_a=[-a_star(i) for i in range(2,max_stock_index)]\n",
        "  C_b=[1-b_star(i) for i in range(1,max_stock_index)]\n",
        "  C_c=[-c_star(i) for i in range(1,max_stock_index-1)]\n",
        "\n",
        "  C=np.diag(C_a,-1)+np.diag(C_b,0)+np.diag(C_c,1)\n",
        "  \n",
        "  \n",
        "  D_a=[a_star(i) for i in range(2,max_stock_index)]\n",
        "  D_b=[1+b_star(i) for i in range(1,max_stock_index)]\n",
        "  D_c=[c_star(i) for i in range(1,max_stock_index-1)]\n",
        "\n",
        "  D=np.diag(D_a,-1)+np.diag(D_b,0)+np.diag(D_c,1)\n",
        "\n",
        " \n",
        "\n",
        "\n",
        "  \n",
        "\n",
        "  P, L, U = linalg.lu(C)\n",
        "\n",
        "\n",
        "\n",
        "  if exotics=='Bermudan':\n",
        "     for step in range(max_time_index-1,-1,-1):\n",
        "      vect_1=np.array([0 for i in range(len(C))])\n",
        "      vect_1[0]=a_star(1)*option_price_grid[0,step+1]\n",
        "      vect_1[-1]=c_star(max_stock_index-1)*option_price_grid[-1,step+1]\n",
        "      \n",
        "      vect_2=np.array([0 for i in range(len(C))])\n",
        "      vect_2[0]=a_star(1)*option_price_grid[0,step]\n",
        "      vect_2[-1]=c_star(max_stock_index-1)*option_price_grid[-1,step]\n",
        "      RHS=np.matmul(D,option_price_grid[1:-1,step+1])+vect_1+vect_2\n",
        "      euro_style_value=np.matmul(linalg.inv(U),np.matmul(linalg.inv(L),RHS))\n",
        "\n",
        "\n",
        "      if time_list[step] in early_excercise_date:\n",
        "        #print(f'excercised at {time_list[step]}')\n",
        "        if OPType=='Call':\n",
        "          for i in range(1,max_stock_index):\n",
        "            excercise_val=call_payoff(stock_price_list[i])\n",
        "            #if excercise_val>euro_style_value[i-1]:\n",
        "              #print(f'excercised at {stock_price_list[i]}')\n",
        "            option_price_grid[i,step]=max(excercise_val,euro_style_value[i-1])\n",
        "        else: \n",
        "          for i in range(1,max_stock_index):\n",
        "            excercise_val=put_payoff(stock_price_list[i])\n",
        "            #if excercise_val>euro_style_value[i-1]:\n",
        "              #print(f'excercised at {stock_price_list[i]}')\n",
        "            option_price_grid[i,step]=max(excercise_val,euro_style_value[i-1])\n",
        "      else:\n",
        "        option_price_grid[1:-1,step]=euro_style_value\n",
        "  \n",
        "  \n",
        "  elif exotics=='American':\n",
        "     for step in range(max_time_index-1,-1,-1):\n",
        "      vect_1=np.array([0 for i in range(len(C))])\n",
        "      vect_1[0]=a_star(1)*option_price_grid[0,step+1]\n",
        "      vect_1[-1]=c_star(max_stock_index-1)*option_price_grid[-1,step+1]\n",
        "      \n",
        "      vect_2=np.array([0 for i in range(len(C))])\n",
        "      vect_2[0]=a_star(1)*option_price_grid[0,step]\n",
        "      vect_2[-1]=c_star(max_stock_index-1)*option_price_grid[-1,step]\n",
        "      RHS=np.matmul(D,option_price_grid[1:-1,step+1])+vect_1+vect_2\n",
        "      euro_style_value=np.matmul(linalg.inv(U),np.matmul(linalg.inv(L),RHS))\n",
        "\n",
        "\n",
        "\n",
        "      if OPType=='Call':\n",
        "        for i in range(1,max_stock_index):\n",
        "          excercise_val=call_payoff(stock_price_list[i])\n",
        "          # if excercise_val>euro_style_value[i-1]:\n",
        "          #   print(f'excercised at {stock_price_list[i]}')\n",
        "          option_price_grid[i,step]=max(excercise_val,euro_style_value[i-1])\n",
        "    \n",
        "      else: \n",
        "        for i in range(1,max_stock_index):\n",
        "          excercise_val=put_payoff(stock_price_list[i])\n",
        "          # if excercise_val>euro_style_value[i-1]:\n",
        "          #   print(f'excercised at {stock_price_list[i]}')\n",
        "          option_price_grid[i,step]=max(excercise_val,euro_style_value[i-1])\n",
        "  \n",
        "  \n",
        "  else: #European\n",
        "\n",
        "\n",
        "    for step in range(max_time_index-1,-1,-1):\n",
        "      vect_1=np.array([0 for i in range(len(C))])\n",
        "      vect_1[0]=a_star(1)*option_price_grid[0,step+1]\n",
        "      vect_1[-1]=c_star(max_stock_index-1)*option_price_grid[-1,step+1]\n",
        "      \n",
        "      vect_2=np.array([0 for i in range(len(C))])\n",
        "      vect_2[0]=a_star(1)*option_price_grid[0,step]\n",
        "      vect_2[-1]=c_star(max_stock_index-1)*option_price_grid[-1,step]\n",
        "      RHS=np.matmul(D,option_price_grid[1:-1,step+1])+vect_1+vect_2\n",
        "      option_price_grid[1:-1,step]=np.matmul(linalg.inv(U),np.matmul(linalg.inv(L),RHS))\n",
        "\n",
        "\n",
        "\n",
        "\n",
        "#-------------------------------------interpolate the pricing grid on t=0 to price the option----------------------------------\n",
        "    \n",
        "  def interpolatingPoly(X,Y,x_new):\n",
        "    \n",
        "    \n",
        "      def LagrangePoly(k,x):\n",
        "          nonlocal X\n",
        "          res=1\n",
        "          for i in range (len(X)):\n",
        "              if i==k:\n",
        "                  continue\n",
        "              else:\n",
        "                  coef=(x-X[i])/(X[k]-X[i])\n",
        "                  res=res*coef\n",
        "          return res\n",
        "    \n",
        "    \n",
        "      res=0\n",
        "      for k in range(len(X)):\n",
        "          res+=LagrangePoly(k,x_new)*Y[k]\n",
        "      return res\n",
        "\n",
        "\n",
        "  #print(option_price_grid[:,0][90])\n",
        "  return interpolatingPoly(stock_price_list, option_price_grid[:,0],s0)"
      ],
      "metadata": {
        "id": "2Ag1MAV683d8"
      },
      "execution_count": null,
      "outputs": []
    },
    {
      "cell_type": "code",
      "source": [
        "Option_Types='Call'\n",
        "\n",
        "Strike=100\n",
        "r=0.02 # r-f rate\n",
        "T=1 # maturity\n",
        "Vol=0.15\n",
        "s0=[i for i in range(10,150)]\n",
        "stock_price_list=list(range(1,300))\n",
        "time_list=list(np.arange(0,1,0.01))\n",
        "early_excercise_date=[0.2,0.3,0.4,0.5]\n",
        "\n",
        "# df=BSM_Pricing_Implicit_Method(Strike,r,T,Vol,Option_Types,Exotics,stock_price_list,time_list,early_excercise_date,s0)\n",
        "tic = time.perf_counter()\n",
        "Bermudan_prices=[BSM_Pricing_Implicit_Method(Strike,r,T,Vol,Option_Types,'Bermudan',stock_price_list,time_list,early_excercise_date,S_0) for S_0 in s0]\n",
        "European_prices=[BSM_Pricing_Implicit_Method(Strike,r,T,Vol,Option_Types,'European',stock_price_list,time_list,early_excercise_date,S_0) for S_0 in s0]\n",
        "American_prices=[BSM_Pricing_Implicit_Method(Strike,r,T,Vol,Option_Types,'American',stock_price_list,time_list,early_excercise_date,S_0) for S_0 in s0]\n",
        "toc = time.perf_counter()\n",
        "\n",
        "print(f\"Time to Perform Implicit Method {toc - tic:0.4f} seconds\")"
      ],
      "metadata": {
        "id": "-HwTDkR7SusM",
        "colab": {
          "base_uri": "https://localhost:8080/"
        },
        "outputId": "e52c2380-dc22-40b7-bdae-8d2ce4eb45d4"
      },
      "execution_count": null,
      "outputs": [
        {
          "output_type": "stream",
          "name": "stdout",
          "text": [
            "Time to Perform Implicit Method 1054.6879 seconds\n"
          ]
        }
      ]
    },
    {
      "cell_type": "code",
      "source": [
        "fig, ax = plt.subplots(figsize=(10, 10))\n",
        "ax.plot(s0, Bermudan_prices,  label='Bermudan Call')\n",
        "ax.plot(s0, European_prices,  label='European Call')\n",
        "ax.plot(s0, American_prices,  label='American Call')\n",
        "ax.legend(loc='upper left', ncol=2)"
      ],
      "metadata": {
        "colab": {
          "base_uri": "https://localhost:8080/",
          "height": 610
        },
        "id": "4-zyVfDE3zQy",
        "outputId": "25dd0a94-97b2-4342-cf24-2cf0fec90373"
      },
      "execution_count": null,
      "outputs": [
        {
          "output_type": "execute_result",
          "data": {
            "text/plain": [
              "<matplotlib.legend.Legend at 0x7ff42c90fe80>"
            ]
          },
          "metadata": {},
          "execution_count": 14
        },
        {
          "output_type": "display_data",
          "data": {
            "text/plain": [
              "<Figure size 720x720 with 1 Axes>"
            ],
            "image/png": "[encoded data removed]"
          },
          "metadata": {
            "needs_background": "light"
          }
        }
      ]
    },
    {
      "cell_type": "code",
      "source": [
        "Option_Types='Put'\n",
        "\n",
        "Strike=100\n",
        "r=0.02 # r-f rate\n",
        "T=1 # maturity\n",
        "Vol=0.15\n",
        "s0=[i for i in range(10,150)]\n",
        "stock_price_list=list(range(1,300))\n",
        "time_list=list(np.arange(0,1,0.01))\n",
        "early_excercise_date=[0.2,0.3,0.4,0.5]\n",
        "\n",
        "# df=BSM_Pricing_Implicit_Method(Strike,r,T,Vol,Option_Types,Exotics,stock_price_list,time_list,early_excercise_date,s0)\n",
        "tic = time.perf_counter()\n",
        "Bermudan_prices=[BSM_Pricing_Implicit_Method(Strike,r,T,Vol,Option_Types,'Bermudan',stock_price_list,time_list,early_excercise_date,S_0) for S_0 in s0]\n",
        "European_prices=[BSM_Pricing_Implicit_Method(Strike,r,T,Vol,Option_Types,'European',stock_price_list,time_list,early_excercise_date,S_0) for S_0 in s0]\n",
        "American_prices=[BSM_Pricing_Implicit_Method(Strike,r,T,Vol,Option_Types,'American',stock_price_list,time_list,early_excercise_date,S_0) for S_0 in s0]\n",
        "toc = time.perf_counter()\n",
        "\n",
        "print(f\"Time to Perform Implicit Method {toc - tic:0.4f} seconds\")"
      ],
      "metadata": {
        "colab": {
          "base_uri": "https://localhost:8080/"
        },
        "id": "0W0epAYn4u71",
        "outputId": "c9f404c1-f689-4d13-8c92-a5d09295ba63"
      },
      "execution_count": null,
      "outputs": [
        {
          "output_type": "stream",
          "name": "stdout",
          "text": [
            "Time to Perform Implicit Method 1151.3184 seconds\n"
          ]
        }
      ]
    },
    {
      "cell_type": "code",
      "source": [
        "fig, ax = plt.subplots(figsize=(10, 10))\n",
        "ax.plot(s0[65:125], Bermudan_prices[65:125],  label='Bermudan Put')\n",
        "ax.plot(s0[65:125], European_prices[65:125],  label='European Put')\n",
        "ax.plot(s0[65:125], American_prices[65:125],  label='American Put')\n",
        "ax.legend(loc='upper left', ncol=2)"
      ],
      "metadata": {
        "colab": {
          "base_uri": "https://localhost:8080/",
          "height": 610
        },
        "id": "jzSChvso8L85",
        "outputId": "70fbac37-4f75-42ad-f7d1-af052bc59e07"
      },
      "execution_count": null,
      "outputs": [
        {
          "output_type": "execute_result",
          "data": {
            "text/plain": [
              "<matplotlib.legend.Legend at 0x7ff42c8dfa30>"
            ]
          },
          "metadata": {},
          "execution_count": 16
        },
        {
          "output_type": "display_data",
          "data": {
            "text/plain": [
              "<Figure size 720x720 with 1 Axes>"
            ],
            "image/png": "[encoded data removed]"
          },
          "metadata": {
            "needs_background": "light"
          }
        }
      ]
    },
    {
      "cell_type": "code",
      "source": [
        "Option_Types='Call'\n",
        "\n",
        "Strike=100\n",
        "r=0.02 # r-f rate\n",
        "T=1 # maturity\n",
        "Vol=0.15\n",
        "s0=[i for i in range(10,150)]\n",
        "stock_price_list=list(range(1,300))\n",
        "time_list=list(np.arange(0,1,0.01))\n",
        "early_excercise_date=[0.2,0.3,0.4,0.5]\n",
        "\n",
        "# df=BSM_Pricing_Implicit_Method(Strike,r,T,Vol,Option_Types,Exotics,stock_price_list,time_list,early_excercise_date,s0)\n",
        "tic = time.perf_counter()\n",
        "Bermudan_prices=[BSM_Pricing_Crank_Nicolson_Method(Strike,r,T,Vol,Option_Types,'Bermudan',stock_price_list,time_list,early_excercise_date,S_0) for S_0 in s0]\n",
        "European_prices=[BSM_Pricing_Crank_Nicolson_Method(Strike,r,T,Vol,Option_Types,'European',stock_price_list,time_list,early_excercise_date,S_0) for S_0 in s0]\n",
        "American_prices=[BSM_Pricing_Crank_Nicolson_Method(Strike,r,T,Vol,Option_Types,'American',stock_price_list,time_list,early_excercise_date,S_0) for S_0 in s0]\n",
        "toc = time.perf_counter()\n",
        "\n",
        "print(f\"Time to Perform Crank-Nicolson Method {toc - tic:0.4f} seconds\")"
      ],
      "metadata": {
        "colab": {
          "base_uri": "https://localhost:8080/"
        },
        "id": "-XpMClzD8-TS",
        "outputId": "59ac4761-bbb5-466f-e2dd-9208affd2420"
      },
      "execution_count": null,
      "outputs": [
        {
          "output_type": "stream",
          "name": "stdout",
          "text": [
            "Time to Perform Crank-Nicolson Method 1038.1355 seconds\n"
          ]
        }
      ]
    },
    {
      "cell_type": "code",
      "source": [
        "fig, ax = plt.subplots(figsize=(10, 10))\n",
        "ax.plot(s0, Bermudan_prices,  label='Bermudan Call')\n",
        "ax.plot(s0, European_prices,  label='European Call')\n",
        "ax.plot(s0, American_prices,  label='American Call')\n",
        "ax.legend(loc='upper left', ncol=2)"
      ],
      "metadata": {
        "colab": {
          "base_uri": "https://localhost:8080/",
          "height": 610
        },
        "id": "Bqify3fqB3O-",
        "outputId": "94036869-9ca1-4bbf-ecc2-287ef18e6ca4"
      },
      "execution_count": null,
      "outputs": [
        {
          "output_type": "execute_result",
          "data": {
            "text/plain": [
              "<matplotlib.legend.Legend at 0x7ff42c7d6340>"
            ]
          },
          "metadata": {},
          "execution_count": 18
        },
        {
          "output_type": "display_data",
          "data": {
            "text/plain": [
              "<Figure size 720x720 with 1 Axes>"
            ],
            "image/png": "[encoded data removed]"
          },
          "metadata": {
            "needs_background": "light"
          }
        }
      ]
    },
    {
      "cell_type": "code",
      "source": [
        "Option_Types='Put'\n",
        "\n",
        "Strike=100\n",
        "r=0.02 # r-f rate\n",
        "T=1 # maturity\n",
        "Vol=0.15\n",
        "s0=[i for i in range(10,150)]\n",
        "stock_price_list=list(range(1,300))\n",
        "time_list=list(np.arange(0,1,0.01))\n",
        "early_excercise_date=[0.2,0.3,0.4,0.5]\n",
        "\n",
        "# df=BSM_Pricing_Implicit_Method(Strike,r,T,Vol,Option_Types,Exotics,stock_price_list,time_list,early_excercise_date,s0)\n",
        "tic = time.perf_counter()\n",
        "Bermudan_prices=[BSM_Pricing_Crank_Nicolson_Method(Strike,r,T,Vol,Option_Types,'Bermudan',stock_price_list,time_list,early_excercise_date,S_0) for S_0 in s0]\n",
        "European_prices=[BSM_Pricing_Crank_Nicolson_Method(Strike,r,T,Vol,Option_Types,'European',stock_price_list,time_list,early_excercise_date,S_0) for S_0 in s0]\n",
        "American_prices=[BSM_Pricing_Crank_Nicolson_Method(Strike,r,T,Vol,Option_Types,'American',stock_price_list,time_list,early_excercise_date,S_0) for S_0 in s0]\n",
        "toc = time.perf_counter()\n",
        "\n",
        "print(f\"Time to Perform Crank-Nicolson Method {toc - tic:0.4f} seconds\")"
      ],
      "metadata": {
        "colab": {
          "base_uri": "https://localhost:8080/"
        },
        "id": "4HXNTijHB6qD",
        "outputId": "68663628-62c0-4573-8229-b2768afb776b"
      },
      "execution_count": null,
      "outputs": [
        {
          "output_type": "stream",
          "name": "stdout",
          "text": [
            "Time to Perform Crank-Nicolson Method 989.3023 seconds\n"
          ]
        }
      ]
    },
    {
      "cell_type": "code",
      "source": [
        "fig, ax = plt.subplots(figsize=(10, 10))\n",
        "ax.plot(s0[65:125], Bermudan_prices[65:125],  label='Bermudan Put')\n",
        "ax.plot(s0[65:125], European_prices[65:125],  label='European Put')\n",
        "ax.plot(s0[65:125], American_prices[65:125],  label='American Put')\n",
        "ax.legend(loc='upper left', ncol=2)"
      ],
      "metadata": {
        "colab": {
          "base_uri": "https://localhost:8080/",
          "height": 610
        },
        "id": "6FpaGpf2Dn9M",
        "outputId": "f22a9967-bde3-4714-9ef5-b452bb9875c2"
      },
      "execution_count": null,
      "outputs": [
        {
          "output_type": "execute_result",
          "data": {
            "text/plain": [
              "<matplotlib.legend.Legend at 0x7ff42c7782e0>"
            ]
          },
          "metadata": {},
          "execution_count": 20
        },
        {
          "output_type": "display_data",
          "data": {
            "text/plain": [
              "<Figure size 720x720 with 1 Axes>"
            ],
            "image/png": "[encoded data removed]"
          },
          "metadata": {
            "needs_background": "light"
          }
        }
      ]
    },
    {
      "cell_type": "markdown",
      "source": [
        "### **Result and Observations**\n",
        "\n",
        "By examine the options value at T=0 across different strike prices, as expected, Call value for across three types of options coincides. This phenomenon can be explained in various angles. The most straight forward way is by exmine the european option put-call parity on non-dividend paying underlying:\n",
        "\n",
        "> $ C=S-K*e^{-rt}+P$\n",
        "\n",
        "Add then subtract $K$ to the $RHS$ and re-arrange the terms we get\n",
        "\n",
        "> $ C=(S-K)+(K-K*e^{-rt})+P$\n",
        "\n",
        "Put call parity holds true at any time during the contract period. We can easily see that the second and the third term of $RHS$ is always positive as K must be greater than its present value, and put price is strictly positive. This force the instrinct value of a european call is always greater than the immediate excercise pay-off $S-K$. The early excercise feature of any American option mandates that its value has to be at least the same as any European option. Thus an Ameican Call's intrinsic value also has to be larger than immediate excercise pay-off. So it is never optimal to excercise an American call option early. This can be extended to Bermudan call option as it is also about early excercise. \n",
        "\n",
        "\n",
        "While on the put side, it might be optimal to excercise a put option early. We observe that both Ameican Put and Bermudan put has higher value than an European put. This is as expected since they both gives more opportunity for the owner to earn excess return. We observed that the Bermudan put has a slightly lower value than American put since it can only be excercised early on a fixed set of date. In other words, it gives owner less opportunity to cash out early than the American put does.\n",
        "\n",
        "Comments on the time to excute the the Implicit and Crank-Nicolson Methods: We didn't observe significant performance improvement by using the Crank-Nicolson Method. However this might due to the way we implement both methods in the python language.\n",
        "\n",
        "### **The Explicit Method**\n",
        "\n",
        "In the following section we shows the implementation of the explicit finit difference method in Matlab language. "
      ],
      "metadata": {
        "id": "6SwnGtb92nJQ"
      }
    }
  ]
}